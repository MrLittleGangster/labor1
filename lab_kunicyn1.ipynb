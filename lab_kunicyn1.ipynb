{
 "cells": [
  {
   "cell_type": "code",
   "execution_count": 7,
   "id": "46b4f37b-8fab-42b4-881b-fe991c94122d",
   "metadata": {},
   "outputs": [
    {
     "name": "stdout",
     "output_type": "stream",
     "text": [
      "Za5bZ4x#\n",
      "\n",
      "W!9Aize5TMrPAAu74Lh3L\n"
     ]
    }
   ],
   "source": [
    "import re\n",
    "file = 'passwords.txt'\n",
    "with open(file,'r') as f:\n",
    "    for line in f:\n",
    "        if bool(re.search(f'[A-Z]',line)) and bool(re.search(f'[a-z]',line)) and bool(re.search(f'[0-9]',line)) and bool(re.search(f'[!@#$%&]',line)) and len(line)>=7:\n",
    "            print(line)"
   ]
  },
  {
   "cell_type": "code",
   "execution_count": null,
   "id": "65c9f6d7-1deb-4753-88ba-1840b0f68be5",
   "metadata": {},
   "outputs": [],
   "source": []
  }
 ],
 "metadata": {
  "kernelspec": {
   "display_name": "Python 3 (ipykernel)",
   "language": "python",
   "name": "python3"
  },
  "language_info": {
   "codemirror_mode": {
    "name": "ipython",
    "version": 3
   },
   "file_extension": ".py",
   "mimetype": "text/x-python",
   "name": "python",
   "nbconvert_exporter": "python",
   "pygments_lexer": "ipython3",
   "version": "3.9.13"
  }
 },
 "nbformat": 4,
 "nbformat_minor": 5
}
